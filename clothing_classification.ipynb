{
  "nbformat": 4,
  "nbformat_minor": 0,
  "metadata": {
    "colab": {
      "provenance": [],
      "toc_visible": true,
      "authorship_tag": "ABX9TyMJsiOKxibx8nGSdpsbkJTN",
      "include_colab_link": true
    },
    "kernelspec": {
      "name": "python3",
      "display_name": "Python 3"
    },
    "language_info": {
      "name": "python"
    }
  },
  "cells": [
    {
      "cell_type": "markdown",
      "metadata": {
        "id": "view-in-github",
        "colab_type": "text"
      },
      "source": [
        "<a href=\"https://colab.research.google.com/github/GabrielJuniorNdlovu/clothing-classification/blob/main/clothing_classification.ipynb\" target=\"_parent\"><img src=\"https://colab.research.google.com/assets/colab-badge.svg\" alt=\"Open In Colab\"/></a>"
      ]
    },
    {
      "cell_type": "markdown",
      "source": [
        "# Installation and Setup"
      ],
      "metadata": {
        "id": "F9cMpyGbgz7a"
      }
    },
    {
      "cell_type": "code",
      "execution_count": null,
      "metadata": {
        "id": "HVgqedK5XVv2"
      },
      "outputs": [],
      "source": [
        "!pip install tensorflow"
      ]
    },
    {
      "cell_type": "code",
      "source": [
        "!pip install numpy"
      ],
      "metadata": {
        "colab": {
          "base_uri": "https://localhost:8080/"
        },
        "id": "i9Tl2sPIYh_L",
        "outputId": "96428bd0-40d9-451e-b25b-2df7fa4f6995"
      },
      "execution_count": null,
      "outputs": [
        {
          "output_type": "stream",
          "name": "stdout",
          "text": [
            "Requirement already satisfied: numpy in /usr/local/lib/python3.11/dist-packages (2.0.2)\n"
          ]
        }
      ]
    },
    {
      "cell_type": "code",
      "source": [
        "pip install matplotlib"
      ],
      "metadata": {
        "id": "0nhOaO9ZXh1p"
      },
      "execution_count": null,
      "outputs": []
    },
    {
      "cell_type": "code",
      "source": [
        "pip install pandas"
      ],
      "metadata": {
        "id": "q3U8HRbhXu0s"
      },
      "execution_count": null,
      "outputs": []
    },
    {
      "cell_type": "markdown",
      "source": [
        "# Data preprocessing"
      ],
      "metadata": {
        "id": "IR2YZ4d_hGvs"
      }
    },
    {
      "cell_type": "code",
      "source": [
        "import tensorflow as tf\n",
        "from tensorflow import keras\n",
        "import numpy as np\n",
        "import matplotlib.pyplot as plt\n",
        "from keras import Input\n",
        "from keras.layers import Flatten, Dense"
      ],
      "metadata": {
        "id": "LQtV1MG-X3sy"
      },
      "execution_count": null,
      "outputs": []
    },
    {
      "cell_type": "code",
      "source": [
        "# import fashion dataset built into tensorflow\n",
        "data = keras.datasets.fashion_mnist"
      ],
      "metadata": {
        "id": "a5zAtAmZYtjk"
      },
      "execution_count": null,
      "outputs": []
    },
    {
      "cell_type": "code",
      "source": [
        "# define 4 variables in which we want to split our dataset into\n",
        "(train_images, train_labels), (test_images, test_labels) = data.load_data()"
      ],
      "metadata": {
        "id": "70G2mq_uY1Ab"
      },
      "execution_count": null,
      "outputs": []
    },
    {
      "cell_type": "code",
      "source": [
        "# our dataset is represented by numbers so we want to represent those numbers by values hence the array\n",
        "class_names = ['T-shirt/top', 'Trouser', 'Pullover', 'Dress', 'Coat', 'Sandal', 'Shirt', 'Sneaker', 'Bag', 'Ankle boot']"
      ],
      "metadata": {
        "id": "LCcpabWMZY2w"
      },
      "execution_count": null,
      "outputs": []
    },
    {
      "cell_type": "code",
      "source": [
        "# our clothing images are represented with pixel values ranging from 0-255. 255 is a large number so we want to decrease that value thus divide each value by 255.now they are 28x28 pixels\n",
        "train_images = train_images/255.0\n",
        "test_images = test_images/255.0"
      ],
      "metadata": {
        "id": "O_BqMzfQbhxb"
      },
      "execution_count": null,
      "outputs": []
    },
    {
      "cell_type": "code",
      "source": [
        "# we want to show the picture of the clothing item\n",
        "plt.imshow(train_images[7], cmap=plt.cm.binary)\n",
        "plt.show()"
      ],
      "metadata": {
        "id": "2ps22Us1advA"
      },
      "execution_count": null,
      "outputs": []
    },
    {
      "cell_type": "code",
      "source": [],
      "metadata": {
        "id": "QSP31xAha8iz"
      },
      "execution_count": null,
      "outputs": []
    },
    {
      "cell_type": "markdown",
      "source": [
        "# Model"
      ],
      "metadata": {
        "id": "_4SmRZU_hPzT"
      }
    },
    {
      "cell_type": "code",
      "source": [
        "# creating my model architecture and sequential means in sequence from the input layer\n",
        "model = keras.Sequential([\n",
        "    # the first layer is the input layer consisting of 28x28 inputs\n",
        "    # we first need to flatten our data input so that is it passable into the first layer of neurons as the list is in 2D\n",
        "    Input(shape=(28, 28)),\n",
        "    Flatten(),\n",
        "    keras.layers.Dense(128, activation='relu'),\n",
        "    keras.layers.Dense(10, activation='softmax')\n",
        "])"
      ],
      "metadata": {
        "id": "AeW1hfNhhSLE"
      },
      "execution_count": null,
      "outputs": []
    },
    {
      "cell_type": "code",
      "source": [
        "# setting parameters for our model\n",
        "model.compile(optimizer='adam', loss='sparse_categorical_crossentropy', metrics=['accuracy'])"
      ],
      "metadata": {
        "id": "fEaBy2JvivF-"
      },
      "execution_count": null,
      "outputs": []
    },
    {
      "cell_type": "code",
      "source": [],
      "metadata": {
        "id": "7j4vQJZilV29"
      },
      "execution_count": null,
      "outputs": []
    },
    {
      "cell_type": "markdown",
      "source": [
        "# Training"
      ],
      "metadata": {
        "id": "JHEyGyEFlXGL"
      }
    },
    {
      "cell_type": "code",
      "source": [
        "model.fit(train_images, train_labels, epochs=10)"
      ],
      "metadata": {
        "id": "A7mSux11laLP"
      },
      "execution_count": null,
      "outputs": []
    },
    {
      "cell_type": "markdown",
      "source": [
        "# Making predictions"
      ],
      "metadata": {
        "id": "1GwhS2wvrSuN"
      }
    },
    {
      "cell_type": "code",
      "source": [
        "# making predictions using the model\n",
        "prediction = model.predict([test_images])\n",
        "# we want to view the image generated by the model and campare to the actual\n",
        "for i in range(5):\n",
        "    plt.grid(False)\n",
        "    plt.imshow(test_images[i], cmap=plt.cm.binary)\n",
        "    plt.xlabel(\"Actual: \" + class_names[test_labels[i]])\n",
        "    plt.title(\"Prediction: \" + class_names[np.argmax(prediction[i])])\n",
        "    plt.show()"
      ],
      "metadata": {
        "id": "9RIsEgSGmERj"
      },
      "execution_count": null,
      "outputs": []
    }
  ]
}